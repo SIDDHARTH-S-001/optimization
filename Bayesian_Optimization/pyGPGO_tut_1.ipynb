{
 "cells": [
  {
   "cell_type": "code",
   "execution_count": 1,
   "metadata": {},
   "outputs": [],
   "source": [
    "import numpy as np\n",
    "from pyGPGO.covfunc import squaredExponential\n",
    "from pyGPGO.acquisition import Acquisition\n",
    "from pyGPGO.surrogates.GaussianProcess import GaussianProcess\n",
    "from pyGPGO.GPGO import GPGO\n"
   ]
  },
  {
   "cell_type": "code",
   "execution_count": 2,
   "metadata": {},
   "outputs": [
    {
     "name": "stdout",
     "output_type": "stream",
     "text": [
      "Evaluation \t Proposed point \t  Current eval. \t Best eval.\n"
     ]
    }
   ],
   "source": [
    "def f(x):\n",
    "    return (np.sin(x))\n",
    "\n",
    "\n",
    "sexp = squaredExponential()\n",
    "gp = GaussianProcess(sexp)\n",
    "acq = Acquisition(mode='ExpectedImprovement')\n",
    "param = {'x': ('cont', [0, 2 * np.pi])}\n",
    "\n",
    "np.random.seed(23)\n",
    "gpgo = GPGO(gp, acq, f, param)"
   ]
  },
  {
   "cell_type": "code",
   "execution_count": 3,
   "metadata": {},
   "outputs": [
    {
     "name": "stdout",
     "output_type": "stream",
     "text": [
      "init   \t [3.25027846]. \t  -0.1084719588823907 \t -0.1084719588823907\n",
      "init   \t [5.94994152]. \t  -0.3271100794172548 \t -0.1084719588823907\n",
      "init   \t [4.80952551]. \t  -0.9952859553348876 \t -0.1084719588823907\n",
      "1      \t [1.58178018]. \t  \u001b[92m0.9999396780422046\u001b[0m \t 0.9999396780422046\n",
      "2      \t [0.66932349]. \t  0.6204555821461945 \t 0.9999396780422046\n",
      "3      \t [2.06732055]. \t  0.8792436347978098 \t 0.9999396780422046\n",
      "4      \t [0.]. \t  0.0    \t 0.9999396780422046\n",
      "5      \t [1.44115575]. \t  0.9916084234526423 \t 0.9999396780422046\n",
      "6      \t [1.57443535]. \t  \u001b[92m0.9999933787777116\u001b[0m \t 0.9999933787777116\n",
      "7      \t [1.57340541]. \t  \u001b[92m0.9999965963471162\u001b[0m \t 0.9999965963471162\n",
      "8      \t [1.57300186]. \t  \u001b[92m0.9999975678139599\u001b[0m \t 0.9999975678139599\n",
      "9      \t [1.57277675]. \t  \u001b[92m0.9999980389675612\u001b[0m \t 0.9999980389675612\n",
      "10     \t [1.57264181]. \t  \u001b[92m0.9999982970922491\u001b[0m \t 0.9999982970922491\n",
      "11     \t [1.57254878]. \t  \u001b[92m0.9999984644548328\u001b[0m \t 0.9999984644548328\n",
      "12     \t [1.57248929]. \t  \u001b[92m0.9999985669371784\u001b[0m \t 0.9999985669371784\n",
      "13     \t [1.57243357]. \t  \u001b[92m0.9999986597159113\u001b[0m \t 0.9999986597159113\n",
      "14     \t [1.57239979]. \t  \u001b[92m0.9999987144526867\u001b[0m \t 0.9999987144526867\n",
      "15     \t [1.5723678]. \t  \u001b[92m0.9999987652412277\u001b[0m \t 0.9999987652412277\n",
      "16     \t [1.46320838]. \t  0.9942179978720495 \t 0.9999987652412277\n",
      "17     \t [1.57235391]. \t  \u001b[92m0.9999987869649245\u001b[0m \t 0.9999987869649245\n",
      "18     \t [1.5723075]. \t  \u001b[92m0.9999988581781081\u001b[0m \t 0.9999988581781081\n",
      "19     \t [1.57228591]. \t  \u001b[92m0.9999988905643201\u001b[0m \t 0.9999988905643201\n",
      "20     \t [1.68351045]. \t  0.9936544859244391 \t 0.9999988905643201\n"
     ]
    }
   ],
   "source": [
    "gpgo.run(max_iter=20)"
   ]
  },
  {
   "cell_type": "code",
   "execution_count": null,
   "metadata": {},
   "outputs": [],
   "source": []
  }
 ],
 "metadata": {
  "kernelspec": {
   "display_name": "Python 3",
   "language": "python",
   "name": "python3"
  },
  "language_info": {
   "codemirror_mode": {
    "name": "ipython",
    "version": 3
   },
   "file_extension": ".py",
   "mimetype": "text/x-python",
   "name": "python",
   "nbconvert_exporter": "python",
   "pygments_lexer": "ipython3",
   "version": "3.8.10"
  }
 },
 "nbformat": 4,
 "nbformat_minor": 2
}
