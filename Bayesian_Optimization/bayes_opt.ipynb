{
 "cells": [
  {
   "cell_type": "code",
   "execution_count": 14,
   "metadata": {},
   "outputs": [],
   "source": [
    "from bayes_opt import BayesianOptimization"
   ]
  },
  {
   "cell_type": "code",
   "execution_count": 15,
   "metadata": {},
   "outputs": [],
   "source": [
    "def black_box_function(x, y):\n",
    "    \"\"\"Function with unknown internals we wish to maximize.\n",
    "\n",
    "    This is just serving as an example, for all intents and\n",
    "    purposes think of the internals of this function, i.e.: the process\n",
    "    which generates its output values, as unknown.\n",
    "    \"\"\"\n",
    "    return -x ** 2 - (y - 1) ** 2 + 1"
   ]
  },
  {
   "cell_type": "code",
   "execution_count": 16,
   "metadata": {},
   "outputs": [],
   "source": [
    "# Bounded region of parameter space\n",
    "pbounds = {'x': (2, 4), 'y': (-3, 3)}\n",
    "\n",
    "optimizer = BayesianOptimization(\n",
    "    f=black_box_function,\n",
    "    pbounds=pbounds,\n",
    "    random_state=1,\n",
    ")"
   ]
  },
  {
   "cell_type": "code",
   "execution_count": 17,
   "metadata": {},
   "outputs": [
    {
     "name": "stdout",
     "output_type": "stream",
     "text": [
      "|   iter    |  target   |     x     |     y     |\n",
      "-------------------------------------------------\n",
      "| \u001b[0m1        \u001b[0m | \u001b[0m-7.135   \u001b[0m | \u001b[0m2.834    \u001b[0m | \u001b[0m1.322    \u001b[0m |\n",
      "| \u001b[0m2        \u001b[0m | \u001b[0m-7.78    \u001b[0m | \u001b[0m2.0      \u001b[0m | \u001b[0m-1.186   \u001b[0m |\n",
      "| \u001b[0m3        \u001b[0m | \u001b[0m-16.13   \u001b[0m | \u001b[0m2.294    \u001b[0m | \u001b[0m-2.446   \u001b[0m |\n",
      "| \u001b[0m4        \u001b[0m | \u001b[0m-8.341   \u001b[0m | \u001b[0m2.373    \u001b[0m | \u001b[0m-0.9266  \u001b[0m |\n",
      "| \u001b[0m5        \u001b[0m | \u001b[0m-7.392   \u001b[0m | \u001b[0m2.794    \u001b[0m | \u001b[0m0.2329   \u001b[0m |\n",
      "| \u001b[95m6        \u001b[0m | \u001b[95m-7.069   \u001b[0m | \u001b[95m2.838    \u001b[0m | \u001b[95m1.111    \u001b[0m |\n",
      "| \u001b[95m7        \u001b[0m | \u001b[95m-6.412   \u001b[0m | \u001b[95m2.409    \u001b[0m | \u001b[95m2.269    \u001b[0m |\n",
      "| \u001b[95m8        \u001b[0m | \u001b[95m-3.223   \u001b[0m | \u001b[95m2.055    \u001b[0m | \u001b[95m1.023    \u001b[0m |\n",
      "| \u001b[0m9        \u001b[0m | \u001b[0m-7.455   \u001b[0m | \u001b[0m2.835    \u001b[0m | \u001b[0m0.3521   \u001b[0m |\n",
      "| \u001b[0m10       \u001b[0m | \u001b[0m-12.11   \u001b[0m | \u001b[0m2.281    \u001b[0m | \u001b[0m-1.811   \u001b[0m |\n",
      "| \u001b[0m11       \u001b[0m | \u001b[0m-15.25   \u001b[0m | \u001b[0m3.601    \u001b[0m | \u001b[0m2.81     \u001b[0m |\n",
      "| \u001b[0m12       \u001b[0m | \u001b[0m-5.924   \u001b[0m | \u001b[0m2.627    \u001b[0m | \u001b[0m1.154    \u001b[0m |\n",
      "| \u001b[0m13       \u001b[0m | \u001b[0m-14.95   \u001b[0m | \u001b[0m3.753    \u001b[0m | \u001b[0m2.368    \u001b[0m |\n",
      "| \u001b[0m14       \u001b[0m | \u001b[0m-17.89   \u001b[0m | \u001b[0m2.17     \u001b[0m | \u001b[0m-2.766   \u001b[0m |\n",
      "| \u001b[0m15       \u001b[0m | \u001b[0m-6.084   \u001b[0m | \u001b[0m2.34     \u001b[0m | \u001b[0m2.269    \u001b[0m |\n",
      "| \u001b[0m16       \u001b[0m | \u001b[0m-5.996   \u001b[0m | \u001b[0m2.197    \u001b[0m | \u001b[0m-0.4734  \u001b[0m |\n",
      "| \u001b[0m17       \u001b[0m | \u001b[0m-14.97   \u001b[0m | \u001b[0m3.916    \u001b[0m | \u001b[0m0.199    \u001b[0m |\n",
      "| \u001b[0m18       \u001b[0m | \u001b[0m-14.89   \u001b[0m | \u001b[0m3.384    \u001b[0m | \u001b[0m-1.107   \u001b[0m |\n",
      "| \u001b[0m19       \u001b[0m | \u001b[0m-11.39   \u001b[0m | \u001b[0m3.373    \u001b[0m | \u001b[0m2.008    \u001b[0m |\n",
      "| \u001b[0m20       \u001b[0m | \u001b[0m-3.399   \u001b[0m | \u001b[0m2.037    \u001b[0m | \u001b[0m1.501    \u001b[0m |\n",
      "| \u001b[0m21       \u001b[0m | \u001b[0m-15.06   \u001b[0m | \u001b[0m3.978    \u001b[0m | \u001b[0m1.489    \u001b[0m |\n",
      "| \u001b[0m22       \u001b[0m | \u001b[0m-6.099   \u001b[0m | \u001b[0m2.561    \u001b[0m | \u001b[0m1.736    \u001b[0m |\n",
      "| \u001b[0m23       \u001b[0m | \u001b[0m-5.591   \u001b[0m | \u001b[0m2.206    \u001b[0m | \u001b[0m-0.3126  \u001b[0m |\n",
      "| \u001b[0m24       \u001b[0m | \u001b[0m-18.58   \u001b[0m | \u001b[0m3.817    \u001b[0m | \u001b[0m-1.238   \u001b[0m |\n",
      "| \u001b[0m25       \u001b[0m | \u001b[0m-16.0    \u001b[0m | \u001b[0m2.576    \u001b[0m | \u001b[0m-2.22    \u001b[0m |\n",
      "| \u001b[95m26       \u001b[0m | \u001b[95m-3.162   \u001b[0m | \u001b[95m2.039    \u001b[0m | \u001b[95m1.073    \u001b[0m |\n",
      "| \u001b[0m27       \u001b[0m | \u001b[0m-10.66   \u001b[0m | \u001b[0m2.423    \u001b[0m | \u001b[0m-1.407   \u001b[0m |\n",
      "| \u001b[0m28       \u001b[0m | \u001b[0m-21.44   \u001b[0m | \u001b[0m2.983    \u001b[0m | \u001b[0m-2.68    \u001b[0m |\n",
      "| \u001b[0m29       \u001b[0m | \u001b[0m-18.64   \u001b[0m | \u001b[0m3.148    \u001b[0m | \u001b[0m-2.12    \u001b[0m |\n",
      "| \u001b[0m30       \u001b[0m | \u001b[0m-9.143   \u001b[0m | \u001b[0m3.179    \u001b[0m | \u001b[0m1.199    \u001b[0m |\n",
      "| \u001b[0m31       \u001b[0m | \u001b[0m-6.158   \u001b[0m | \u001b[0m2.205    \u001b[0m | \u001b[0m-0.5157  \u001b[0m |\n",
      "| \u001b[0m32       \u001b[0m | \u001b[0m-12.78   \u001b[0m | \u001b[0m3.389    \u001b[0m | \u001b[0m-0.5149  \u001b[0m |\n",
      "| \u001b[0m33       \u001b[0m | \u001b[0m-4.025   \u001b[0m | \u001b[0m2.1      \u001b[0m | \u001b[0m0.2154   \u001b[0m |\n",
      "| \u001b[0m34       \u001b[0m | \u001b[0m-10.9    \u001b[0m | \u001b[0m3.328    \u001b[0m | \u001b[0m0.08933  \u001b[0m |\n",
      "| \u001b[0m35       \u001b[0m | \u001b[0m-14.36   \u001b[0m | \u001b[0m3.889    \u001b[0m | \u001b[0m0.5193   \u001b[0m |\n",
      "| \u001b[0m36       \u001b[0m | \u001b[0m-23.57   \u001b[0m | \u001b[0m3.807    \u001b[0m | \u001b[0m-2.175   \u001b[0m |\n",
      "| \u001b[0m37       \u001b[0m | \u001b[0m-4.905   \u001b[0m | \u001b[0m2.279    \u001b[0m | \u001b[0m1.844    \u001b[0m |\n",
      "| \u001b[0m38       \u001b[0m | \u001b[0m-15.86   \u001b[0m | \u001b[0m2.795    \u001b[0m | \u001b[0m-2.008   \u001b[0m |\n",
      "| \u001b[0m39       \u001b[0m | \u001b[0m-17.52   \u001b[0m | \u001b[0m3.855    \u001b[0m | \u001b[0m-0.9134  \u001b[0m |\n",
      "| \u001b[0m40       \u001b[0m | \u001b[0m-11.39   \u001b[0m | \u001b[0m3.502    \u001b[0m | \u001b[0m1.356    \u001b[0m |\n",
      "| \u001b[0m41       \u001b[0m | \u001b[0m-13.25   \u001b[0m | \u001b[0m3.767    \u001b[0m | \u001b[0m0.742    \u001b[0m |\n",
      "| \u001b[0m42       \u001b[0m | \u001b[0m-14.9    \u001b[0m | \u001b[0m3.502    \u001b[0m | \u001b[0m-0.9066  \u001b[0m |\n",
      "| \u001b[0m43       \u001b[0m | \u001b[0m-7.342   \u001b[0m | \u001b[0m2.54     \u001b[0m | \u001b[0m2.375    \u001b[0m |\n",
      "| \u001b[0m44       \u001b[0m | \u001b[0m-10.36   \u001b[0m | \u001b[0m2.856    \u001b[0m | \u001b[0m2.789    \u001b[0m |\n",
      "| \u001b[0m45       \u001b[0m | \u001b[0m-10.14   \u001b[0m | \u001b[0m3.327    \u001b[0m | \u001b[0m0.7302   \u001b[0m |\n",
      "| \u001b[0m46       \u001b[0m | \u001b[0m-6.85    \u001b[0m | \u001b[0m2.229    \u001b[0m | \u001b[0m2.697    \u001b[0m |\n",
      "| \u001b[0m47       \u001b[0m | \u001b[0m-7.69    \u001b[0m | \u001b[0m2.9      \u001b[0m | \u001b[0m0.4703   \u001b[0m |\n",
      "| \u001b[0m48       \u001b[0m | \u001b[0m-13.58   \u001b[0m | \u001b[0m2.816    \u001b[0m | \u001b[0m-1.578   \u001b[0m |\n",
      "| \u001b[0m49       \u001b[0m | \u001b[0m-13.8    \u001b[0m | \u001b[0m3.807    \u001b[0m | \u001b[0m0.4421   \u001b[0m |\n",
      "| \u001b[95m50       \u001b[0m | \u001b[95m-3.111   \u001b[0m | \u001b[95m2.006    \u001b[0m | \u001b[95m0.7029   \u001b[0m |\n",
      "| \u001b[95m51       \u001b[0m | \u001b[95m-3.0     \u001b[0m | \u001b[95m2.0      \u001b[0m | \u001b[95m1.0      \u001b[0m |\n",
      "| \u001b[95m52       \u001b[0m | \u001b[95m-3.0     \u001b[0m | \u001b[95m2.0      \u001b[0m | \u001b[95m1.0      \u001b[0m |\n",
      "| \u001b[95m53       \u001b[0m | \u001b[95m-3.0     \u001b[0m | \u001b[95m2.0      \u001b[0m | \u001b[95m1.0      \u001b[0m |\n",
      "| \u001b[95m54       \u001b[0m | \u001b[95m-3.0     \u001b[0m | \u001b[95m2.0      \u001b[0m | \u001b[95m1.0      \u001b[0m |\n",
      "| \u001b[0m55       \u001b[0m | \u001b[0m-3.0     \u001b[0m | \u001b[0m2.0      \u001b[0m | \u001b[0m1.0      \u001b[0m |\n",
      "=================================================\n"
     ]
    }
   ],
   "source": [
    "optimizer.maximize(\n",
    "    init_points=50,\n",
    "    n_iter=5,\n",
    ")"
   ]
  },
  {
   "cell_type": "code",
   "execution_count": 18,
   "metadata": {},
   "outputs": [
    {
     "name": "stdout",
     "output_type": "stream",
     "text": [
      "{'target': -3.0000000197624743, 'params': {'x': 2.0, 'y': 1.0001405790680213}}\n"
     ]
    }
   ],
   "source": [
    "print(optimizer.max)"
   ]
  },
  {
   "cell_type": "code",
   "execution_count": null,
   "metadata": {},
   "outputs": [],
   "source": [
    "for i, res in enumerate(optimizer.res):\n",
    "    print(\"Iteration {}: \\n\\t{}\".format(i, res))"
   ]
  },
  {
   "cell_type": "code",
   "execution_count": 20,
   "metadata": {},
   "outputs": [
    {
     "name": "stdout",
     "output_type": "stream",
     "text": [
      "|   iter    |  target   |     x     |     y     |\n",
      "-------------------------------------------------\n",
      "| \u001b[0m56       \u001b[0m | \u001b[0m-3.095   \u001b[0m | \u001b[0m-2.0     \u001b[0m | \u001b[0m1.308    \u001b[0m |\n",
      "| \u001b[95m57       \u001b[0m | \u001b[95m0.9787   \u001b[0m | \u001b[95m-0.02593 \u001b[0m | \u001b[95m0.8565   \u001b[0m |\n",
      "| \u001b[0m58       \u001b[0m | \u001b[0m0.6384   \u001b[0m | \u001b[0m-0.05294 \u001b[0m | \u001b[0m1.599    \u001b[0m |\n",
      "| \u001b[0m59       \u001b[0m | \u001b[0m0.8995   \u001b[0m | \u001b[0m0.3139   \u001b[0m | \u001b[0m1.044    \u001b[0m |\n",
      "| \u001b[95m60       \u001b[0m | \u001b[95m0.9869   \u001b[0m | \u001b[95m-0.06913 \u001b[0m | \u001b[95m1.091    \u001b[0m |\n",
      "=================================================\n"
     ]
    }
   ],
   "source": [
    "optimizer.set_bounds(new_bounds={\"x\": (-2, 3)})\n",
    "\n",
    "optimizer.maximize(\n",
    "    init_points=0,\n",
    "    n_iter=5,\n",
    ")"
   ]
  },
  {
   "cell_type": "code",
   "execution_count": 21,
   "metadata": {},
   "outputs": [
    {
     "name": "stdout",
     "output_type": "stream",
     "text": [
      "|   iter    |  target   |     x     |     y     |\n",
      "-------------------------------------------------\n",
      "| \u001b[0m61       \u001b[0m | \u001b[0m0.66     \u001b[0m | \u001b[0m0.5      \u001b[0m | \u001b[0m0.7      \u001b[0m |\n",
      "| \u001b[0m62       \u001b[0m | \u001b[0m0.1      \u001b[0m | \u001b[0m-0.3     \u001b[0m | \u001b[0m0.1      \u001b[0m |\n",
      "=================================================\n"
     ]
    }
   ],
   "source": [
    "optimizer.probe(\n",
    "    params={\"x\": 0.5, \"y\": 0.7},\n",
    "    lazy=True,\n",
    ")\n",
    "\n",
    "optimizer.probe(\n",
    "    params=[-0.3, 0.1],\n",
    "    lazy=True,\n",
    ")\n",
    "\n",
    "# Will probe only the two points specified above\n",
    "optimizer.maximize(init_points=0, n_iter=0)"
   ]
  }
 ],
 "metadata": {
  "kernelspec": {
   "display_name": "Python 3",
   "language": "python",
   "name": "python3"
  },
  "language_info": {
   "codemirror_mode": {
    "name": "ipython",
    "version": 3
   },
   "file_extension": ".py",
   "mimetype": "text/x-python",
   "name": "python",
   "nbconvert_exporter": "python",
   "pygments_lexer": "ipython3",
   "version": "3.8.10"
  }
 },
 "nbformat": 4,
 "nbformat_minor": 2
}
